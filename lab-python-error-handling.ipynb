{
 "cells": [
  {
   "cell_type": "markdown",
   "id": "25d7736c-ba17-4aff-b6bb-66eba20fbf4e",
   "metadata": {},
   "source": [
    "# Lab | Error Handling"
   ]
  },
  {
   "cell_type": "markdown",
   "id": "bc99b386-7508-47a0-bcdb-d969deaf6c8b",
   "metadata": {},
   "source": [
    "## Exercise: Error Handling for Managing Customer Orders\n",
    "\n",
    "The implementation of your code for managing customer orders assumes that the user will always enter a valid input. \n",
    "\n",
    "For example, we could modify the `initialize_inventory` function to include error handling.\n",
    "   - If the user enters an invalid quantity (e.g., a negative value or a non-numeric value), display an error message and ask them to re-enter the quantity for that product.\n",
    "   - Use a try-except block to handle the error and continue prompting the user until a valid quantity is entered.\n",
    "\n",
    "```python\n",
    "# Step 1: Define the function for initializing the inventory with error handling\n",
    "def initialize_inventory(products):\n",
    "    inventory = {}\n",
    "    for product in products:\n",
    "        valid_quantity = False\n",
    "        while not valid_quantity:\n",
    "            try:\n",
    "                quantity = int(input(f\"Enter the quantity of {product}s available: \"))\n",
    "                if quantity < 0:\n",
    "                    raise ValueError(\"Invalid quantity! Please enter a non-negative value.\")\n",
    "                valid_quantity = True\n",
    "            except ValueError as error:\n",
    "                print(f\"Error: {error}\")\n",
    "        inventory[product] = quantity\n",
    "    return inventory\n",
    "\n",
    "# Or, in another way:\n",
    "\n",
    "def initialize_inventory(products):\n",
    "    inventory = {}\n",
    "    for product in products:\n",
    "        valid_input = False\n",
    "        while not valid_input:\n",
    "            try:\n",
    "                quantity = int(input(f\"Enter the quantity of {product}s available: \"))\n",
    "                if quantity >= 0:\n",
    "                    inventory[product] = quantity\n",
    "                    valid_input = True\n",
    "                else:\n",
    "                    print(\"Quantity cannot be negative. Please enter a valid quantity.\")\n",
    "            except ValueError:\n",
    "                print(\"Invalid input. Please enter a valid quantity.\")\n",
    "    return inventory\n",
    "```\n",
    "\n",
    "Let's enhance your code by implementing error handling to handle invalid inputs.\n",
    "\n",
    "Follow the steps below to complete the exercise:\n",
    "\n",
    "2. Modify the `calculate_total_price` function to include error handling.\n",
    "   - If the user enters an invalid price (e.g., a negative value or a non-numeric value), display an error message and ask them to re-enter the price for that product.\n",
    "   - Use a try-except block to handle the error and continue prompting the user until a valid price is entered.\n",
    "\n",
    "3. Modify the `get_customer_orders` function to include error handling.\n",
    "   - If the user enters an invalid number of orders (e.g., a negative value or a non-numeric value), display an error message and ask them to re-enter the number of orders.\n",
    "   - If the user enters an invalid product name (e.g., a product name that is not in the inventory), or that doesn't have stock available, display an error message and ask them to re-enter the product name. *Hint: you will need to pass inventory as a parameter*\n",
    "   - Use a try-except block to handle the error and continue prompting the user until a valid product name is entered.\n",
    "\n",
    "4. Test your code by running the program and deliberately entering invalid quantities and product names. Make sure the error handling mechanism works as expected.\n"
   ]
  },
  {
   "cell_type": "code",
   "execution_count": 34,
   "id": "b126d2f9-db44-47a3-83a7-b31c2544b478",
   "metadata": {},
   "outputs": [],
   "source": [
    "# 1.Define a list called products that contains the following items: \"t-shirt\", \"mug\", \"hat\", \"book\", \"keychain\".\n",
    "products = [\"t-shirt\", \"mug\", \"hat\", \"book\", \"keychain\"]"
   ]
  },
  {
   "cell_type": "code",
   "execution_count": 35,
   "id": "713b4e63-feb8-42f0-aa98-bc151a18f4c6",
   "metadata": {},
   "outputs": [],
   "source": [
    "# 2.Create an empty dictionary called inventory.\n",
    "inventory = {}"
   ]
  },
  {
   "cell_type": "code",
   "execution_count": null,
   "id": "63d2a6db-5fd3-4e11-a1ac-cc80120ce12b",
   "metadata": {},
   "outputs": [],
   "source": [
    "# Define a function named initialize_inventory that takes products as a parameter.\n",
    "# Initializing the inventory with error handling\n",
    "# Inside the function, implement the code for initializing the inventory dictionary using a loop and user input.\n",
    "def initialize_inventory(products):\n",
    "    for product in products:\n",
    "        valid_input = False\n",
    "        while not valid_input:\n",
    "            try:\n",
    "                quantity = int(input(f\"Enter the quantity of {product}s available: \"))\n",
    "                if quantity >= 0:\n",
    "                    inventory[product] = quantity\n",
    "                    valid_input = True\n",
    "                else:\n",
    "                    print(\"Quantity cannot be negative. Please enter a valid quantity.\")\n",
    "            except ValueError:\n",
    "                print(\"Invalid input. Please enter a valid quantity.\")\n",
    "    return inventory\n",
    "inventory =initialize_inventory(products)"
   ]
  },
  {
   "cell_type": "code",
   "execution_count": null,
   "id": "c2197759-682e-4a64-bed6-86bc6b0cd006",
   "metadata": {
    "scrolled": true
   },
   "outputs": [],
   "source": [
    "# Modify the calculate_total_price function to include error handling.\n",
    "# If the user enters an invalid price (e.g., a negative value or a non-numeric value),\n",
    "# display an error message and ask them to re-enter the price for that product.\n",
    "# Use a try-except block to handle the error and continue prompting the user until a valid price is entered.\n",
    "def calculate_total_price(inventory):\n",
    "    for product in inventory:\n",
    "        while True:\n",
    "            try:\n",
    "                price= float(input(f\"Enter the price of the {product}\"))\n",
    "                if price < 0:\n",
    "                    raise ValueError (\"Enter a positive value\")\n",
    "                inventory[product]= price\n",
    "                break\n",
    "            except ValueError as ve:\n",
    "                print(\"Enter a positive value\")\n",
    "    return inventory\n",
    "\n",
    "inventory =initialize_inventory(products)"
   ]
  },
  {
   "cell_type": "code",
   "execution_count": null,
   "id": "d82e3eb4-9326-4b26-a24a-6eb8cf2d0a55",
   "metadata": {},
   "outputs": [],
   "source": [
    "# create an empty set called customer_orders.\n",
    "customer_orders = set()"
   ]
  },
  {
   "cell_type": "code",
   "execution_count": null,
   "id": "95d16e9a-dc65-4456-952f-086041c90dd2",
   "metadata": {},
   "outputs": [],
   "source": [
    "# Prompt the user to enter the name of a product that a customer wants to order.\n",
    "product_one = str(input(\"please enter the first product: \"))\n",
    "product_two = str(input(\"please enter the second product: \"))\n",
    "product_three = str(input(\"please enter the third product: \"))"
   ]
  },
  {
   "cell_type": "code",
   "execution_count": null,
   "id": "d080161f-e683-4d47-8c29-bd7ab14b1976",
   "metadata": {},
   "outputs": [],
   "source": [
    "customer_orders = {product_one, product_two, product_three}\n",
    "print(customer_orders)"
   ]
  },
  {
   "cell_type": "code",
   "execution_count": null,
   "id": "b3fbb2f6-83a3-4977-92c1-d4ce61092dca",
   "metadata": {},
   "outputs": [],
   "source": [
    "#converting tuple to a list\n",
    "customer_orders = list()"
   ]
  },
  {
   "cell_type": "code",
   "execution_count": null,
   "id": "2b5b4001-54c2-4ea8-aa2c-67fa761643c3",
   "metadata": {},
   "outputs": [],
   "source": [
    "#Add the product name to the \"customer_orders\" set.\n",
    "customer_orders.append(\"trouser\")"
   ]
  },
  {
   "cell_type": "code",
   "execution_count": null,
   "id": "9f427ac2-517b-4222-ab58-decf8d94389f",
   "metadata": {},
   "outputs": [],
   "source": [
    "print(customer_orders)"
   ]
  },
  {
   "cell_type": "code",
   "execution_count": null,
   "id": "22dd79af-2a4e-4b41-8adc-1ccc17360b13",
   "metadata": {},
   "outputs": [],
   "source": [
    "# Modify the get_customer_orders function to include error handling.\n",
    "# If the user enters an invalid number of orders (e.g., a negative value or a non-numeric value),\n",
    "# display an error message and ask them to re-enter the number of orders.\n",
    "# If the user enters an invalid product name (e.g., a product name that is not in the inventory),\n",
    "# or that doesn't have stock available, display an error message and ask them to re-enter the product name.\n",
    "# Hint: you will need to pass inventory as a parameter\n",
    "# Use a try-except block to handle the error and continue prompting the user until a valid product name is entered.\n",
    "\n",
    "def get_customer_orders():\n",
    "    while True:\n",
    "        choice = input(\"add a product please: \")\n",
    "        customer_orders.append(choice)\n",
    "        choice = input(\"Would you like to add another product? \")\n",
    "        if choice.casefold() == 'no':\n",
    "            break\n",
    "    return customer_orders"
   ]
  },
  {
   "cell_type": "code",
   "execution_count": null,
   "id": "61136323-88bb-44f6-8b3c-4cfbe17decc3",
   "metadata": {},
   "outputs": [],
   "source": [
    "for element in customer_orders:\n",
    "    print(element)"
   ]
  },
  {
   "cell_type": "code",
   "execution_count": null,
   "id": "27b5bac3-13a4-4d17-968f-c040774446f1",
   "metadata": {},
   "outputs": [],
   "source": [
    "# Modify the calculate_total_price function to include error handling.\n",
    "# If the user enters an invalid price (e.g., a negative value or a non-numeric value), \n",
    "# display an error message and ask them to re-enter the price for that product.\n",
    "# Use a try-except block to handle the error and continue prompting the user until a valid price is entered.\n",
    "def calculate_total_price():\n",
    "    done = False\n",
    "    while not done:\n",
    "        try:\n",
    "            price = input(\"Please enter a valid price for this product: \")\n",
    "            if int(price) < 0:\n",
    "                raise ValueError\n",
    "            print(f\"The price is: {price}\")\n",
    "            done = True\n",
    "        except ValueError:\n",
    "            print(\"You entered letters or a negative number, please enter a positive number.\")\n",
    "            price\n",
    "    return price"
   ]
  },
  {
   "cell_type": "code",
   "execution_count": null,
   "id": "cee4eb5a-d254-41f8-8bb8-973454a973d8",
   "metadata": {},
   "outputs": [],
   "source": [
    "# Define a function named update_inventory that takes customer_orders and inventory as parameters.\n",
    "# Inside the function, implement the code for updating the inventory dictionary based on the customer orders.\n",
    "def update_inventory(customer_orders, inventory):\n",
    "    for product in customer_orders:\n",
    "        inventory[product] -= 1\n",
    "    return inventory"
   ]
  },
  {
   "cell_type": "code",
   "execution_count": null,
   "id": "91ef9300-a157-42b7-bc29-7dbf40eedded",
   "metadata": {},
   "outputs": [],
   "source": [
    "# Define a function named calculate_order_statistics that takes customer_orders and products as parameters.\n",
    "# Inside the function, implement the code for calculating the order statistics (total products ordered, \n",
    "# and percentage of unique products ordered). The function should return these values.\n",
    "def calculate_order_statistics (customer_orders, products):\n",
    "    total_products_ordered= len(customer_orders)\n",
    "    percentage_of_unique_products_ordered= (len(customer_orders)/ len(products))*100\n",
    "    order_statistic= (total_products_ordered,percentage_of_unique_products_ordered)\n",
    "    return order_statistic\n",
    "    "
   ]
  },
  {
   "cell_type": "code",
   "execution_count": null,
   "id": "5e21c9ff-dbdd-41b7-8f66-4df86fa83906",
   "metadata": {},
   "outputs": [],
   "source": [
    "calculate_order_statistics(customer_orders, products)"
   ]
  },
  {
   "cell_type": "code",
   "execution_count": null,
   "id": "377fcd7c-4e9f-4b01-ade7-a400d2cf6e7d",
   "metadata": {},
   "outputs": [],
   "source": [
    "#Define a function named print_order_statistics that takes order_statistics as a parameter.\n",
    "#Inside the function, implement the code for printing the order statistics.\n",
    "def print_order_statistics (order_statistics):\n",
    "    total_products_ordered, percentage_of_unique_products_ordered = order_statistics\n",
    "    print(f\"Total products ordered: {total_products_ordered}\")\n",
    "    print(f\"Percentage of unique products ordered: {percentage_of_unique_products_ordered}%\")\n",
    "\n",
    "order_statistics= calculate_order_statistics(customer_orders, products)\n",
    "print_order_statistics(order_statistics)"
   ]
  },
  {
   "cell_type": "code",
   "execution_count": null,
   "id": "e999e621-951d-41d4-adbb-2ad9919a8cb8",
   "metadata": {},
   "outputs": [],
   "source": [
    "#Define a function named print_updated_inventory that takes inventory as a parameter.\n",
    "#Inside the function, implement the code for printing the updated inventory.\n",
    "def print_updated_inventory(inventory):\n",
    "    print(f\"The updated inventory is: {inventory}\")"
   ]
  },
  {
   "cell_type": "code",
   "execution_count": null,
   "id": "efe50ee1-63bc-40d5-9950-cb54aec44d9c",
   "metadata": {},
   "outputs": [],
   "source": [
    "#Call the functions in the appropriate sequence to execute the program and manage customer orders.\n",
    "initialize_inventory(inventory)"
   ]
  },
  {
   "cell_type": "code",
   "execution_count": null,
   "id": "8a7fd6ee-a438-4c46-9468-bc59e9a5eb34",
   "metadata": {},
   "outputs": [],
   "source": [
    "get_customer_orders()"
   ]
  },
  {
   "cell_type": "code",
   "execution_count": null,
   "id": "a0614dc0-f40c-4f7d-8e40-22b321de81cc",
   "metadata": {},
   "outputs": [],
   "source": [
    "update_inventory(customer_orders, inventory)"
   ]
  },
  {
   "cell_type": "code",
   "execution_count": null,
   "id": "fb5a7fd5-5382-4b18-a878-a1aa55854c32",
   "metadata": {},
   "outputs": [],
   "source": [
    "calculate_order_statistics (customer_orders, products)"
   ]
  },
  {
   "cell_type": "code",
   "execution_count": null,
   "id": "00a3fe95-7108-4d4f-a09a-fdfac2c59221",
   "metadata": {},
   "outputs": [],
   "source": [
    "print_order_statistics (order_statistics)"
   ]
  },
  {
   "cell_type": "code",
   "execution_count": null,
   "id": "53b62f12-008d-4978-9c2f-01e7babfab3e",
   "metadata": {},
   "outputs": [],
   "source": [
    "print_updated_inventory(inventory)"
   ]
  },
  {
   "cell_type": "code",
   "execution_count": null,
   "id": "ea8a8bef-822e-4236-8a29-2b7c36862298",
   "metadata": {},
   "outputs": [],
   "source": []
  }
 ],
 "metadata": {
  "kernelspec": {
   "display_name": "Python 3 (ipykernel)",
   "language": "python",
   "name": "python3"
  },
  "language_info": {
   "codemirror_mode": {
    "name": "ipython",
    "version": 3
   },
   "file_extension": ".py",
   "mimetype": "text/x-python",
   "name": "python",
   "nbconvert_exporter": "python",
   "pygments_lexer": "ipython3",
   "version": "3.12.4"
  }
 },
 "nbformat": 4,
 "nbformat_minor": 5
}
